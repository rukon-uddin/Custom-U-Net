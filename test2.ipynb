{
 "cells": [
  {
   "cell_type": "code",
   "execution_count": 210,
   "id": "afe48735-0bb1-4d17-94cc-9250e54c818d",
   "metadata": {},
   "outputs": [],
   "source": [
    "import tensorflow as tf\n",
    "from tensorflow import keras\n",
    "import cv2\n",
    "import numpy as np\n",
    "import os\n",
    "import matplotlib.pyplot as plt\n",
    "from glob import glob"
   ]
  },
  {
   "cell_type": "code",
   "execution_count": 3,
   "id": "a3f31824-fdb0-4525-bccc-cc8fc91f3705",
   "metadata": {},
   "outputs": [],
   "source": [
    "model = tf.keras.models.load_model(\"unet.h5\")"
   ]
  },
  {
   "cell_type": "code",
   "execution_count": 201,
   "id": "18535d0e-6927-4487-bc66-65cd4bcbf4e0",
   "metadata": {},
   "outputs": [],
   "source": [
    "img = cv2.imread(r\"D:\\paper implementation\\Refined image segmentation for calorie estimation of multiple dish food item\\images\\dataset\\Unet\\test_images\\2994639.jpg\")"
   ]
  },
  {
   "cell_type": "code",
   "execution_count": 202,
   "id": "356f0909-642c-4e47-af62-ee8bb5108834",
   "metadata": {},
   "outputs": [],
   "source": [
    "def img_processing(img):\n",
    "    img = img / 255\n",
    "    img = cv2.resize(img, (256,256))\n",
    "    img = img.astype(np.float32)\n",
    "    img = np.expand_dims(img, axis = 0)\n",
    "    return img\n",
    "\n",
    "\n",
    "def show(img):\n",
    "    cv2.imshow(\"win\", img)\n",
    "    cv2.waitKey(0)"
   ]
  },
  {
   "cell_type": "code",
   "execution_count": 203,
   "id": "815937ec-9eb7-4630-ae42-c4ec8574ddd0",
   "metadata": {},
   "outputs": [],
   "source": [
    "img_contours = img.copy()\n",
    "img = img_processing(img)\n",
    "mask = model.predict(img)"
   ]
  },
  {
   "cell_type": "code",
   "execution_count": 204,
   "id": "859f09e4-7e87-4d25-aed1-f485bbee445d",
   "metadata": {},
   "outputs": [
    {
     "data": {
      "text/plain": [
       "(256, 256)"
      ]
     },
     "execution_count": 204,
     "metadata": {},
     "output_type": "execute_result"
    }
   ],
   "source": [
    "mask = mask[0]\n",
    "mask = mask * 255\n",
    "mask = cv2.resize(mask, (256,256))\n",
    "mask.shape"
   ]
  },
  {
   "cell_type": "code",
   "execution_count": 205,
   "id": "4aba24c9-040f-474a-87cb-f043aa689e3f",
   "metadata": {},
   "outputs": [],
   "source": [
    "mask = np.uint8(mask)\n",
    "edges = cv2.Canny(image=mask, threshold1=100, threshold2=200)\n",
    "kernel = np.ones((4,4))\n",
    "dilate = cv2.dilate(edges, kernel)\n",
    "img_contours = cv2.resize(img_contours, (256,256))"
   ]
  },
  {
   "cell_type": "code",
   "execution_count": 206,
   "id": "2a7a32c5-e04c-4a48-8009-235af9ba9d03",
   "metadata": {},
   "outputs": [],
   "source": [
    "contours,_ = cv2.findContours(dilate, cv2.RETR_EXTERNAL, cv2.CHAIN_APPROX_NONE)\n",
    "calories = 42\n",
    "mass = 3700\n",
    "for cnt in contours:\n",
    "    area = cv2.contourArea(cnt)\n",
    "#     cv2.drawContours(img_contours, cnt, -1, (0,255,0), 2)\n",
    "    if(area > 1000):\n",
    "        cal_estimation = (area * 42) // mass\n",
    "        peri = cv2.arcLength(cnt, True)\n",
    "        approx = cv2.approxPolyDP(cnt, 0.02*peri, True)\n",
    "        x, y, w, h = cv2.boundingRect(approx)\n",
    "        cv2.rectangle(img_contours, (x,y), (x+w, y+h), (0,255,0), 2)\n",
    "        cv2.putText(img_contours, str(cal_estimation), (x+10,y+20), cv2.FONT_HERSHEY_DUPLEX, 0.5, (0,0,255), 2)\n",
    "    "
   ]
  },
  {
   "cell_type": "code",
   "execution_count": 207,
   "id": "46a6af8a-e675-45ef-949b-2fc9706ae25b",
   "metadata": {},
   "outputs": [],
   "source": [
    "show(img_contours)"
   ]
  },
  {
   "cell_type": "code",
   "execution_count": 88,
   "id": "3991410b-c821-4ede-92e9-b3525c4c0ade",
   "metadata": {},
   "outputs": [
    {
     "data": {
      "text/plain": [
       "(256, 256, 3)"
      ]
     },
     "execution_count": 88,
     "metadata": {},
     "output_type": "execute_result"
    }
   ],
   "source": [
    "img_contours.shape"
   ]
  },
  {
   "cell_type": "code",
   "execution_count": 116,
   "id": "e0d835f2-001c-415c-902e-40ef1c89cbd2",
   "metadata": {},
   "outputs": [
    {
     "data": {
      "text/plain": [
       "(256, 256)"
      ]
     },
     "execution_count": 116,
     "metadata": {},
     "output_type": "execute_result"
    }
   ],
   "source": []
  },
  {
   "cell_type": "code",
   "execution_count": 211,
   "id": "6f632a14-234d-4945-8955-a52fecb594c1",
   "metadata": {},
   "outputs": [],
   "source": [
    "test_images = glob(\"test_images/*\")"
   ]
  },
  {
   "cell_type": "code",
   "execution_count": 229,
   "id": "9c842daa-ecb3-46a2-99cf-d44f58c07670",
   "metadata": {},
   "outputs": [],
   "source": [
    "test_images = glob(\"test_images/*\")\n",
    "k = 0\n",
    "for path in test_images:\n",
    "    total_cal = 0\n",
    "    x = cv2.imread(path, cv2.IMREAD_COLOR)\n",
    "    img_contours = x.copy()\n",
    "    img = img_processing(x)\n",
    "    \n",
    "    mask = model.predict(img)\n",
    "    \n",
    "    mask = mask[0]\n",
    "    mask = mask * 255\n",
    "    mask = cv2.resize(mask, (256,256))\n",
    "    mask = np.uint8(mask)\n",
    "    edges = cv2.Canny(image=mask, threshold1=100, threshold2=200)\n",
    "    kernel = np.ones((4,4))\n",
    "    dilate = cv2.dilate(edges, kernel)\n",
    "    img_contours = cv2.resize(img_contours, (256,256))\n",
    "    \n",
    "    contours,_ = cv2.findContours(dilate, cv2.RETR_EXTERNAL, cv2.CHAIN_APPROX_NONE)\n",
    "    calories = 42\n",
    "    mass = 3700\n",
    "    for cnt in contours:\n",
    "        area = cv2.contourArea(cnt)\n",
    "        if(area > 1000):\n",
    "            cal_estimation = (area * 42) // mass\n",
    "            total_cal+=cal_estimation\n",
    "            peri = cv2.arcLength(cnt, True)\n",
    "            approx = cv2.approxPolyDP(cnt, 0.02*peri, True)\n",
    "            x, y, w, h = cv2.boundingRect(approx)\n",
    "            cv2.rectangle(img_contours, (x,y), (x+w, y+h), (0,255,0), 2)\n",
    "            cv2.putText(img_contours, str(cal_estimation), (x+10,y+20), cv2.FONT_HERSHEY_SIMPLEX, 0.7, (0,0,255), 1)\n",
    "            \n",
    "    cv2.putText(img_contours, str(total_cal), (5,30), cv2.FONT_HERSHEY_SIMPLEX, 1, (0,0,255), 2)\n",
    "\n",
    "    cv2.imwrite(f\"mask/{k + 50}.png\", img_contours)\n",
    "    k+=1"
   ]
  },
  {
   "cell_type": "code",
   "execution_count": null,
   "id": "02e45845-c5de-4fc8-b7ad-4dfecba5f531",
   "metadata": {},
   "outputs": [],
   "source": []
  }
 ],
 "metadata": {
  "kernelspec": {
   "display_name": "Python 3",
   "language": "python",
   "name": "python3"
  },
  "language_info": {
   "codemirror_mode": {
    "name": "ipython",
    "version": 3
   },
   "file_extension": ".py",
   "mimetype": "text/x-python",
   "name": "python",
   "nbconvert_exporter": "python",
   "pygments_lexer": "ipython3",
   "version": "3.8.8"
  }
 },
 "nbformat": 4,
 "nbformat_minor": 5
}
